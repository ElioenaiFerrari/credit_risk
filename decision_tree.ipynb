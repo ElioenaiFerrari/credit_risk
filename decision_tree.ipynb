{
 "cells": [
  {
   "cell_type": "code",
   "execution_count": 1,
   "metadata": {},
   "outputs": [],
   "source": [
    "import pandas as pd\n",
    "import json\n",
    "import math"
   ]
  },
  {
   "cell_type": "code",
   "execution_count": 2,
   "metadata": {},
   "outputs": [
    {
     "data": {
      "text/html": [
       "<div>\n",
       "<style scoped>\n",
       "    .dataframe tbody tr th:only-of-type {\n",
       "        vertical-align: middle;\n",
       "    }\n",
       "\n",
       "    .dataframe tbody tr th {\n",
       "        vertical-align: top;\n",
       "    }\n",
       "\n",
       "    .dataframe thead th {\n",
       "        text-align: right;\n",
       "    }\n",
       "</style>\n",
       "<table border=\"1\" class=\"dataframe\">\n",
       "  <thead>\n",
       "    <tr style=\"text-align: right;\">\n",
       "      <th></th>\n",
       "      <th>História de crédito</th>\n",
       "      <th>Dívida</th>\n",
       "      <th>Garantias</th>\n",
       "      <th>Renda Anual</th>\n",
       "      <th>Risco</th>\n",
       "    </tr>\n",
       "  </thead>\n",
       "  <tbody>\n",
       "    <tr>\n",
       "      <th>0</th>\n",
       "      <td>Ruim</td>\n",
       "      <td>Alta</td>\n",
       "      <td>Nenhuma</td>\n",
       "      <td>&lt; 15000</td>\n",
       "      <td>Alto</td>\n",
       "    </tr>\n",
       "    <tr>\n",
       "      <th>1</th>\n",
       "      <td>Desconhecida</td>\n",
       "      <td>Alta</td>\n",
       "      <td>Nenhuma</td>\n",
       "      <td>&gt;= 15000 e &lt;=35000</td>\n",
       "      <td>Alto</td>\n",
       "    </tr>\n",
       "    <tr>\n",
       "      <th>2</th>\n",
       "      <td>Desconhecida</td>\n",
       "      <td>Baixa</td>\n",
       "      <td>Nenhuma</td>\n",
       "      <td>&gt;= 15000 e &lt;=35000</td>\n",
       "      <td>Moderado</td>\n",
       "    </tr>\n",
       "    <tr>\n",
       "      <th>3</th>\n",
       "      <td>Desconhecida</td>\n",
       "      <td>Baixa</td>\n",
       "      <td>Nenhuma</td>\n",
       "      <td>&gt; 35000</td>\n",
       "      <td>Alto</td>\n",
       "    </tr>\n",
       "    <tr>\n",
       "      <th>4</th>\n",
       "      <td>Desconhecida</td>\n",
       "      <td>Baixa</td>\n",
       "      <td>Nenhuma</td>\n",
       "      <td>&gt; 35000</td>\n",
       "      <td>Baixo</td>\n",
       "    </tr>\n",
       "    <tr>\n",
       "      <th>5</th>\n",
       "      <td>Desconhecida</td>\n",
       "      <td>Baixa</td>\n",
       "      <td>Adequada</td>\n",
       "      <td>&gt; 35000</td>\n",
       "      <td>Baixo</td>\n",
       "    </tr>\n",
       "    <tr>\n",
       "      <th>6</th>\n",
       "      <td>Ruim</td>\n",
       "      <td>Baixa</td>\n",
       "      <td>Nenhuma</td>\n",
       "      <td>&lt; 15000</td>\n",
       "      <td>Alto</td>\n",
       "    </tr>\n",
       "    <tr>\n",
       "      <th>7</th>\n",
       "      <td>Ruim</td>\n",
       "      <td>Baixa</td>\n",
       "      <td>Adequada</td>\n",
       "      <td>&gt; 35000</td>\n",
       "      <td>Moderado</td>\n",
       "    </tr>\n",
       "    <tr>\n",
       "      <th>8</th>\n",
       "      <td>Boa</td>\n",
       "      <td>Baixa</td>\n",
       "      <td>Nenhuma</td>\n",
       "      <td>&gt; 35000</td>\n",
       "      <td>Baixo</td>\n",
       "    </tr>\n",
       "    <tr>\n",
       "      <th>9</th>\n",
       "      <td>Boa</td>\n",
       "      <td>Alta</td>\n",
       "      <td>Adequada</td>\n",
       "      <td>&gt; 35000</td>\n",
       "      <td>Baixo</td>\n",
       "    </tr>\n",
       "    <tr>\n",
       "      <th>10</th>\n",
       "      <td>Boa</td>\n",
       "      <td>Alta</td>\n",
       "      <td>Nenhuma</td>\n",
       "      <td>&lt; 15000</td>\n",
       "      <td>Alto</td>\n",
       "    </tr>\n",
       "    <tr>\n",
       "      <th>11</th>\n",
       "      <td>Boa</td>\n",
       "      <td>Alta</td>\n",
       "      <td>Nenhuma</td>\n",
       "      <td>&gt;= 15000 e &lt;=35000</td>\n",
       "      <td>Moderado</td>\n",
       "    </tr>\n",
       "    <tr>\n",
       "      <th>12</th>\n",
       "      <td>Boa</td>\n",
       "      <td>Alta</td>\n",
       "      <td>Nenhuma</td>\n",
       "      <td>&gt; 35000</td>\n",
       "      <td>Baixo</td>\n",
       "    </tr>\n",
       "    <tr>\n",
       "      <th>13</th>\n",
       "      <td>Ruim</td>\n",
       "      <td>Alta</td>\n",
       "      <td>Nenhuma</td>\n",
       "      <td>&gt;= 15000 e &lt;=35000</td>\n",
       "      <td>Alto</td>\n",
       "    </tr>\n",
       "  </tbody>\n",
       "</table>\n",
       "</div>"
      ],
      "text/plain": [
       "   História de crédito Dívida Garantias         Renda Anual     Risco\n",
       "0                 Ruim   Alta   Nenhuma             < 15000      Alto\n",
       "1         Desconhecida   Alta   Nenhuma  >= 15000 e <=35000      Alto\n",
       "2         Desconhecida  Baixa   Nenhuma  >= 15000 e <=35000  Moderado\n",
       "3         Desconhecida  Baixa   Nenhuma             > 35000      Alto\n",
       "4         Desconhecida  Baixa   Nenhuma             > 35000     Baixo\n",
       "5         Desconhecida  Baixa  Adequada             > 35000     Baixo\n",
       "6                 Ruim  Baixa   Nenhuma             < 15000      Alto\n",
       "7                 Ruim  Baixa  Adequada             > 35000  Moderado\n",
       "8                  Boa  Baixa   Nenhuma             > 35000     Baixo\n",
       "9                  Boa   Alta  Adequada             > 35000     Baixo\n",
       "10                 Boa   Alta   Nenhuma             < 15000      Alto\n",
       "11                 Boa   Alta   Nenhuma  >= 15000 e <=35000  Moderado\n",
       "12                 Boa   Alta   Nenhuma             > 35000     Baixo\n",
       "13                Ruim   Alta   Nenhuma  >= 15000 e <=35000      Alto"
      ]
     },
     "execution_count": 2,
     "metadata": {},
     "output_type": "execute_result"
    }
   ],
   "source": [
    "df = pd.read_csv('./credit_risk.csv')\n",
    "\n",
    "df"
   ]
  },
  {
   "cell_type": "code",
   "execution_count": 3,
   "metadata": {},
   "outputs": [
    {
     "name": "stdout",
     "output_type": "stream",
     "text": [
      "Alto risco: 6/14\n",
      "Moderado risco: 3/14\n",
      "Baixo risco: 5/14\n"
     ]
    }
   ],
   "source": [
    "high_risk = df.loc[df['Risco'] == 'Alto']\n",
    "medium_risk = df.loc[df['Risco'] == 'Moderado']\n",
    "low_risk = df.loc[df['Risco'] == 'Baixo']\n",
    "\n",
    "print(f'Alto risco: {high_risk.count()[\"Risco\"]}/{df.count()[\"Risco\"]}')\n",
    "print(f'Moderado risco: {medium_risk.count()[\"Risco\"]}/{df.count()[\"Risco\"]}')\n",
    "print(f'Baixo risco: {low_risk.count()[\"Risco\"]}/{df.count()[\"Risco\"]}')\n"
   ]
  },
  {
   "cell_type": "code",
   "execution_count": 12,
   "metadata": {},
   "outputs": [
    {
     "name": "stdout",
     "output_type": "stream",
     "text": [
      "Entropia de risco: 1.5306189948485174\n",
      "Entropia de historico bom: 1.3709505944546687\n",
      "Entropia de historico desconhecido: 1.5219280948873621\n",
      "Entropia de historico ruim: 0.8112781244591328\n"
     ]
    }
   ],
   "source": [
    "risk_entropy = -6/14 * math.log2(6/14) - 3/14 * math.log2(3/14) - 5/14 * math.log2(5/14)\n",
    "good_history_entropy = -1/5 * math.log2(1/5) - 1/5 * math.log2(1/5) - 3/5 * math.log2(3/5)\n",
    "unknown_history_entropy = -2/5 * math.log2(2/5) - 1/5 * math.log2(1/5) - 2/5 * math.log2(2/5)\n",
    "bad_history_entropy = -3/4 * math.log2(3/4) - 1/4 * math.log2(1/4)\n",
    "\n",
    "print(f'Entropia de risco: {risk_entropy}')\n",
    "print(f'Entropia de historico bom: {good_history_entropy}')\n",
    "print(f'Entropia de historico desconhecido: {unknown_history_entropy}')\n",
    "print(f'Entropia de historico ruim: {bad_history_entropy}')"
   ]
  },
  {
   "cell_type": "code",
   "execution_count": 13,
   "metadata": {},
   "outputs": [
    {
     "name": "stdout",
     "output_type": "stream",
     "text": [
      "Ganho de informação: 0.26565428452375406\n"
     ]
    }
   ],
   "source": [
    "gain = risk_entropy - (5/14 * good_history_entropy) - (5/14 * unknown_history_entropy) - (4/14 * bad_history_entropy)\n",
    "print(f'Ganho de informação: {gain}')"
   ]
  },
  {
   "cell_type": "code",
   "execution_count": 5,
   "metadata": {},
   "outputs": [
    {
     "name": "stdout",
     "output_type": "stream",
     "text": [
      "[['Ruim' 'Alta' 'Nenhuma' '< 15000']\n",
      " ['Desconhecida' 'Alta' 'Nenhuma' '>= 15000 e <=35000']\n",
      " ['Desconhecida' 'Baixa' 'Nenhuma' '>= 15000 e <=35000']\n",
      " ['Desconhecida' 'Baixa' 'Nenhuma' '> 35000']\n",
      " ['Desconhecida' 'Baixa' 'Nenhuma' '> 35000']\n",
      " ['Desconhecida' 'Baixa' 'Adequada' '> 35000']\n",
      " ['Ruim' 'Baixa' 'Nenhuma' '< 15000']\n",
      " ['Ruim' 'Baixa' 'Adequada' '> 35000']\n",
      " ['Boa' 'Baixa' 'Nenhuma' '> 35000']\n",
      " ['Boa' 'Alta' 'Adequada' '> 35000']\n",
      " ['Boa' 'Alta' 'Nenhuma' '< 15000']\n",
      " ['Boa' 'Alta' 'Nenhuma' '>= 15000 e <=35000']\n",
      " ['Boa' 'Alta' 'Nenhuma' '> 35000']\n",
      " ['Ruim' 'Alta' 'Nenhuma' '>= 15000 e <=35000']]\n",
      "['Alto' 'Alto' 'Moderado' 'Alto' 'Baixo' 'Baixo' 'Alto' 'Moderado' 'Baixo'\n",
      " 'Baixo' 'Alto' 'Moderado' 'Baixo' 'Alto']\n"
     ]
    }
   ],
   "source": [
    "X = df.iloc[:, :-1].values\n",
    "y = df.iloc[:, -1].values\n",
    "\n",
    "\n",
    "print(X)\n",
    "print(y)"
   ]
  },
  {
   "cell_type": "code",
   "execution_count": null,
   "metadata": {},
   "outputs": [],
   "source": []
  },
  {
   "cell_type": "code",
   "execution_count": null,
   "metadata": {},
   "outputs": [],
   "source": []
  }
 ],
 "metadata": {
  "kernelspec": {
   "display_name": "Python 3",
   "language": "python",
   "name": "python3"
  },
  "language_info": {
   "codemirror_mode": {
    "name": "ipython",
    "version": 3
   },
   "file_extension": ".py",
   "mimetype": "text/x-python",
   "name": "python",
   "nbconvert_exporter": "python",
   "pygments_lexer": "ipython3",
   "version": "3.9.6"
  }
 },
 "nbformat": 4,
 "nbformat_minor": 2
}
