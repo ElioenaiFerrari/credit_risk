{
 "cells": [
  {
   "cell_type": "code",
   "execution_count": 2,
   "metadata": {},
   "outputs": [
    {
     "name": "stdout",
     "output_type": "stream",
     "text": [
      "\n",
      "\u001b[1m[\u001b[0m\u001b[34;49mnotice\u001b[0m\u001b[1;39;49m]\u001b[0m\u001b[39;49m A new release of pip is available: \u001b[0m\u001b[31;49m24.0\u001b[0m\u001b[39;49m -> \u001b[0m\u001b[32;49m24.2\u001b[0m\n",
      "\u001b[1m[\u001b[0m\u001b[34;49mnotice\u001b[0m\u001b[1;39;49m]\u001b[0m\u001b[39;49m To update, run: \u001b[0m\u001b[32;49m/Library/Developer/CommandLineTools/usr/bin/python3 -m pip install --upgrade pip\u001b[0m\n"
     ]
    }
   ],
   "source": [
    "!pip install -q Orange3 -U"
   ]
  },
  {
   "cell_type": "code",
   "execution_count": 68,
   "metadata": {},
   "outputs": [],
   "source": [
    "import Orange\n",
    "from Orange.classification.rules import CN2Learner"
   ]
  },
  {
   "cell_type": "code",
   "execution_count": 81,
   "metadata": {},
   "outputs": [
    {
     "data": {
      "text/plain": [
       "(DiscreteVariable(name='História de crédito'name='História de crédito',\n",
       "                  ,\n",
       "                  values=('Boa', 'Desconhecida', 'Ruim')values=('Boa',\n",
       "                   'Desconhecida',\n",
       "                   'Ruim')),\n",
       " DiscreteVariable(name='Dívida'name='Dívida',\n",
       "                  ,\n",
       "                  values=('Alta', 'Baixa')values=('Alta', 'Baixa')),\n",
       " DiscreteVariable(name='Garantias'name='Garantias',\n",
       "                  ,\n",
       "                  values=('Adequada', 'Nenhuma')values=('Adequada',\n",
       "                   'Nenhuma')),\n",
       " DiscreteVariable(name='Renda Anual'name='Renda Anual',\n",
       "                  ,\n",
       "                  values=('< 15000',\n",
       "                   '> 35000',\n",
       "                   '>= 15000 e <=35000')values=('< 15000',\n",
       "                   '> 35000',\n",
       "                   '>= 15000 e <=35000')),\n",
       " DiscreteVariable(name='Risco'name='Risco',\n",
       "                  ,\n",
       "                  values=('Alto', 'Baixo', 'Moderado')values=('Alto',\n",
       "                   'Baixo',\n",
       "                   'Moderado')))"
      ]
     },
     "execution_count": 81,
     "metadata": {},
     "output_type": "execute_result"
    }
   ],
   "source": [
    "table = Orange.data.Table(\"credit_risk_orange.csv\")\n",
    "table.domain.variables"
   ]
  },
  {
   "cell_type": "code",
   "execution_count": 73,
   "metadata": {},
   "outputs": [],
   "source": [
    "cn2 = CN2Learner()\n",
    "rules = cn2(table)"
   ]
  },
  {
   "cell_type": "code",
   "execution_count": 74,
   "metadata": {},
   "outputs": [
    {
     "name": "stdout",
     "output_type": "stream",
     "text": [
      "IF Renda Anual==< 15000 AND História de crédito!=Boa THEN Risco=Alto \n",
      "IF Garantias==Adequada AND História de crédito==Desconhecida THEN Risco=Baixo \n",
      "IF Renda Anual==>= 15000 e <=35000 AND Dívida!=Alta THEN Risco=Moderado \n",
      "IF História de crédito==Desconhecida AND Dívida!=Baixa THEN Risco=Alto \n",
      "IF História de crédito==Ruim AND Dívida!=Alta THEN Risco=Moderado \n",
      "IF História de crédito==Ruim THEN Risco=Alto \n",
      "IF Garantias==Adequada THEN Risco=Baixo \n",
      "IF Renda Anual==< 15000 THEN Risco=Alto \n",
      "IF Renda Anual!=> 35000 THEN Risco=Moderado \n",
      "IF História de crédito==Boa THEN Risco=Baixo \n",
      "IF História de crédito==Desconhecida THEN Risco=Alto \n",
      "IF TRUE THEN Risco=Baixo \n"
     ]
    }
   ],
   "source": [
    "for rule in rules.rule_list:\n",
    "    print(rule)"
   ]
  },
  {
   "cell_type": "code",
   "execution_count": 83,
   "metadata": {},
   "outputs": [
    {
     "data": {
      "text/plain": [
       "array([0, 2, 0])"
      ]
     },
     "execution_count": 83,
     "metadata": {},
     "output_type": "execute_result"
    }
   ],
   "source": [
    "predictions = rules([[\"Boa\", \"Alta\", \"Nenhuma\", \"< 15000\"], [\"Ruim\", \"Baixa\", \"Adequada\", \">= 15000 e <=35000\"], [\"Ruim\", \"Baixa\", \"Nenhuma\", \"< 15000\"]])\n",
    "predictions"
   ]
  }
 ],
 "metadata": {
  "kernelspec": {
   "display_name": "Python 3",
   "language": "python",
   "name": "python3"
  },
  "language_info": {
   "codemirror_mode": {
    "name": "ipython",
    "version": 3
   },
   "file_extension": ".py",
   "mimetype": "text/x-python",
   "name": "python",
   "nbconvert_exporter": "python",
   "pygments_lexer": "ipython3",
   "version": "3.9.6"
  }
 },
 "nbformat": 4,
 "nbformat_minor": 2
}
