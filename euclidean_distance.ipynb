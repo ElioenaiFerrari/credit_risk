{
 "cells": [
  {
   "cell_type": "code",
   "execution_count": 1,
   "metadata": {},
   "outputs": [],
   "source": [
    "import numpy as np"
   ]
  },
  {
   "cell_type": "code",
   "execution_count": 2,
   "metadata": {},
   "outputs": [],
   "source": [
    "def euclidean_distance(values):\n",
    "    result = 0\n",
    "    for [x, y] in values:\n",
    "        calc = x - y\n",
    "        calc = np.power(calc, 2)\n",
    "        result += calc\n",
    "    \n",
    "    return np.sqrt(result)"
   ]
  },
  {
   "cell_type": "code",
   "execution_count": 3,
   "metadata": {},
   "outputs": [
    {
     "name": "stdout",
     "output_type": "stream",
     "text": [
      "4.47213595499958\n",
      "6.0\n"
     ]
    }
   ],
   "source": [
    "close_n = [[5, 5], [7, 5], [9, 5]]\n",
    "\n",
    "print(euclidean_distance(close_n))\n",
    "\n",
    "distant_n = [[3, 1], [7, 3], [1, 5]]\n",
    "\n",
    "print(euclidean_distance(distant_n))"
   ]
  },
  {
   "cell_type": "code",
   "execution_count": 13,
   "metadata": {},
   "outputs": [
    {
     "name": "stdout",
     "output_type": "stream",
     "text": [
      "The distance between marcus_and_claudia is 1.8027756377319946\n",
      "The distance between marcus_and_ana is 2.1213203435596424\n",
      "The distance between claudia_and_ana is 0.5\n"
     ]
    }
   ],
   "source": [
    "marcus_movie_avaliation = [1.5, 5]\n",
    "claudia_movie_avaliation = [3, 4]\n",
    "ana_movie_avaliation = [3, 3.5]\n",
    "\n",
    "marcus_and_claudia = [\n",
    "    [marcus_movie_avaliation[0], claudia_movie_avaliation[0]],\n",
    "    [marcus_movie_avaliation[1], claudia_movie_avaliation[1]]\n",
    "]\n",
    "\n",
    "marcus_and_ana = [\n",
    "    [marcus_movie_avaliation[0], ana_movie_avaliation[0]],\n",
    "    [marcus_movie_avaliation[1], ana_movie_avaliation[1]]\n",
    "]\n",
    "\n",
    "claudia_and_ana = [\n",
    "    [claudia_movie_avaliation[0], ana_movie_avaliation[0]],\n",
    "    [claudia_movie_avaliation[1], ana_movie_avaliation[1]]\n",
    "]\n",
    "\n",
    "data_with_labels = [\n",
    "    [marcus_and_claudia, 'marcus_and_claudia'],\n",
    "    [marcus_and_ana, 'marcus_and_ana'],\n",
    "    [claudia_and_ana, 'claudia_and_ana']\n",
    "]\n",
    "\n",
    "for [values, label] in data_with_labels:\n",
    "    distance = euclidean_distance(values)\n",
    "    print(f'The distance between {label} is {distance}')"
   ]
  }
 ],
 "metadata": {
  "kernelspec": {
   "display_name": "Python 3",
   "language": "python",
   "name": "python3"
  },
  "language_info": {
   "codemirror_mode": {
    "name": "ipython",
    "version": 3
   },
   "file_extension": ".py",
   "mimetype": "text/x-python",
   "name": "python",
   "nbconvert_exporter": "python",
   "pygments_lexer": "ipython3",
   "version": "3.9.6"
  }
 },
 "nbformat": 4,
 "nbformat_minor": 2
}
