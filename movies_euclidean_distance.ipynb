{
 "cells": [
  {
   "cell_type": "code",
   "execution_count": 22,
   "metadata": {},
   "outputs": [],
   "source": [
    "import pandas as pd\n",
    "import numpy as np\n"
   ]
  },
  {
   "cell_type": "code",
   "execution_count": 23,
   "metadata": {},
   "outputs": [
    {
     "name": "stdout",
     "output_type": "stream",
     "text": [
      "(4, 6)\n"
     ]
    },
    {
     "data": {
      "text/html": [
       "<div>\n",
       "<style scoped>\n",
       "    .dataframe tbody tr th:only-of-type {\n",
       "        vertical-align: middle;\n",
       "    }\n",
       "\n",
       "    .dataframe tbody tr th {\n",
       "        vertical-align: top;\n",
       "    }\n",
       "\n",
       "    .dataframe thead th {\n",
       "        text-align: right;\n",
       "    }\n",
       "</style>\n",
       "<table border=\"1\" class=\"dataframe\">\n",
       "  <thead>\n",
       "    <tr style=\"text-align: right;\">\n",
       "      <th></th>\n",
       "      <th>Violência</th>\n",
       "      <th>Romance</th>\n",
       "      <th>Ação</th>\n",
       "      <th>Comédia</th>\n",
       "    </tr>\n",
       "  </thead>\n",
       "  <tbody>\n",
       "    <tr>\n",
       "      <th>count</th>\n",
       "      <td>4.000000</td>\n",
       "      <td>4.00000</td>\n",
       "      <td>4.000000</td>\n",
       "      <td>4.000000</td>\n",
       "    </tr>\n",
       "    <tr>\n",
       "      <th>mean</th>\n",
       "      <td>0.400000</td>\n",
       "      <td>0.10000</td>\n",
       "      <td>0.275000</td>\n",
       "      <td>0.450000</td>\n",
       "    </tr>\n",
       "    <tr>\n",
       "      <th>std</th>\n",
       "      <td>0.424264</td>\n",
       "      <td>0.11547</td>\n",
       "      <td>0.170783</td>\n",
       "      <td>0.465475</td>\n",
       "    </tr>\n",
       "    <tr>\n",
       "      <th>min</th>\n",
       "      <td>0.000000</td>\n",
       "      <td>0.00000</td>\n",
       "      <td>0.100000</td>\n",
       "      <td>0.000000</td>\n",
       "    </tr>\n",
       "    <tr>\n",
       "      <th>25%</th>\n",
       "      <td>0.075000</td>\n",
       "      <td>0.00000</td>\n",
       "      <td>0.175000</td>\n",
       "      <td>0.075000</td>\n",
       "    </tr>\n",
       "    <tr>\n",
       "      <th>50%</th>\n",
       "      <td>0.350000</td>\n",
       "      <td>0.10000</td>\n",
       "      <td>0.250000</td>\n",
       "      <td>0.450000</td>\n",
       "    </tr>\n",
       "    <tr>\n",
       "      <th>75%</th>\n",
       "      <td>0.675000</td>\n",
       "      <td>0.20000</td>\n",
       "      <td>0.350000</td>\n",
       "      <td>0.825000</td>\n",
       "    </tr>\n",
       "    <tr>\n",
       "      <th>max</th>\n",
       "      <td>0.900000</td>\n",
       "      <td>0.20000</td>\n",
       "      <td>0.500000</td>\n",
       "      <td>0.900000</td>\n",
       "    </tr>\n",
       "  </tbody>\n",
       "</table>\n",
       "</div>"
      ],
      "text/plain": [
       "       Violência  Romance      Ação   Comédia\n",
       "count   4.000000  4.00000  4.000000  4.000000\n",
       "mean    0.400000  0.10000  0.275000  0.450000\n",
       "std     0.424264  0.11547  0.170783  0.465475\n",
       "min     0.000000  0.00000  0.100000  0.000000\n",
       "25%     0.075000  0.00000  0.175000  0.075000\n",
       "50%     0.350000  0.10000  0.250000  0.450000\n",
       "75%     0.675000  0.20000  0.350000  0.825000\n",
       "max     0.900000  0.20000  0.500000  0.900000"
      ]
     },
     "execution_count": 23,
     "metadata": {},
     "output_type": "execute_result"
    }
   ],
   "source": [
    "df = pd.read_csv('movies.csv')\n",
    "\n",
    "print(df.shape)\n",
    "df.describe()"
   ]
  },
  {
   "cell_type": "code",
   "execution_count": 24,
   "metadata": {},
   "outputs": [],
   "source": [
    "def euclidean_distance(values):\n",
    "    result = 0\n",
    "\n",
    "    for [x, y] in values:\n",
    "      calc = x - y\n",
    "      result += np.power(calc, 2)\n",
    "    \n",
    "    return np.sqrt(result)    "
   ]
  },
  {
   "cell_type": "code",
   "execution_count": 25,
   "metadata": {},
   "outputs": [],
   "source": [
    "hora_do_pesadelo = [0.8, 0.1, 0.5, 0.0]\n",
    "o_todo_poderoso = [0.0, 0.9, 0.2, 0.8]"
   ]
  },
  {
   "cell_type": "code",
   "execution_count": 26,
   "metadata": {},
   "outputs": [
    {
     "name": "stdout",
     "output_type": "stream",
     "text": [
      "(4, 4) (4,)\n"
     ]
    }
   ],
   "source": [
    "X = df.iloc[:, 1:-1].values\n",
    "y = df.iloc[:, -1].values\n",
    "\n",
    "print(X.shape, y.shape)"
   ]
  },
  {
   "cell_type": "code",
   "execution_count": 27,
   "metadata": {},
   "outputs": [
    {
     "name": "stdout",
     "output_type": "stream",
     "text": [
      "Filme mais parecido com A Hora do Pesadelo: Floresta Maldita de gênero Terror\n"
     ]
    }
   ],
   "source": [
    "minor_distance_index = 0\n",
    "minor_distance = 1000 \n",
    "\n",
    "for i in range(X.shape[1]):\n",
    "    movie = X[i]\n",
    "    zipped = zip(movie, hora_do_pesadelo)\n",
    "    distance = euclidean_distance(zipped)\n",
    "    if distance < minor_distance:\n",
    "        minor_distance = distance\n",
    "        minor_distance_index = i\n",
    "\n",
    "\n",
    "print(f'Filme mais parecido com A Hora do Pesadelo: {df.iloc[minor_distance_index, 0]} de gênero {df.iloc[minor_distance_index, -1]}')"
   ]
  },
  {
   "cell_type": "code",
   "execution_count": 28,
   "metadata": {},
   "outputs": [
    {
     "name": "stdout",
     "output_type": "stream",
     "text": [
      "Filme mais parecido com O Todo Poderoso: Tirando o atraso de gênero Comédia\n"
     ]
    }
   ],
   "source": [
    "minor_distance_index = 0\n",
    "minor_distance = 1000 \n",
    "\n",
    "for i in range(X.shape[1]):\n",
    "    movie = X[i]\n",
    "    zipped = zip(movie, o_todo_poderoso)\n",
    "    distance = euclidean_distance(zipped)\n",
    "    if distance < minor_distance:\n",
    "        minor_distance = distance\n",
    "        minor_distance_index = i\n",
    "\n",
    "\n",
    "print(f'Filme mais parecido com O Todo Poderoso: {df.iloc[minor_distance_index, 0]} de gênero {df.iloc[minor_distance_index, -1]}')"
   ]
  }
 ],
 "metadata": {
  "kernelspec": {
   "display_name": "Python 3",
   "language": "python",
   "name": "python3"
  },
  "language_info": {
   "codemirror_mode": {
    "name": "ipython",
    "version": 3
   },
   "file_extension": ".py",
   "mimetype": "text/x-python",
   "name": "python",
   "nbconvert_exporter": "python",
   "pygments_lexer": "ipython3",
   "version": "3.9.6"
  }
 },
 "nbformat": 4,
 "nbformat_minor": 2
}
